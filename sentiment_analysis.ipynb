{
 "cells": [
  {
   "cell_type": "code",
   "execution_count": 1,
   "metadata": {},
   "outputs": [
    {
     "name": "stdout",
     "output_type": "stream",
     "text": [
      "   id                                             review\n",
      "0   1  I love this app! It is so useful and easy to use.\n",
      "1   2  Terrible experience. The app crashes all the t...\n",
      "2   3        Decent app but needs improvement in the UI.\n",
      "3   4           Fantastic! This app has changed my life.\n",
      "4   5       The app is okay, but it lacks many features.\n",
      "5   6                Worst app ever. It is full of bugs.\n",
      "6   7  Excellent functionality and user-friendly design.\n",
      "7   8  Not bad, but there are better alternatives out...\n",
      "8   9  I'm very satisfied with this app. Highly recom...\n",
      "9  10         The app is slow and unresponsive at times.\n"
     ]
    }
   ],
   "source": [
    "import pandas as pd\n",
    "\n",
    "# Load the dataset\n",
    "file_path = 'user_review.xls'  # replace with the actual path to your XLS file\n",
    "\n",
    "# Read the Excel file\n",
    "reviews_df = pd.read_excel(file_path)\n",
    "\n",
    "# Display the first few rows of the dataframe\n",
    "print(reviews_df.head(10))\n"
   ]
  },
  {
   "cell_type": "code",
   "execution_count": 2,
   "metadata": {},
   "outputs": [
    {
     "name": "stdout",
     "output_type": "stream",
     "text": [
      "id        0\n",
      "review    0\n",
      "dtype: int64\n"
     ]
    }
   ],
   "source": [
    "# Remove rows with null values\n",
    "reviews_df = reviews_df.dropna()\n",
    "\n",
    "# Check for any remaining null values\n",
    "print(reviews_df.isnull().sum())\n"
   ]
  },
  {
   "cell_type": "code",
   "execution_count": 3,
   "metadata": {},
   "outputs": [
    {
     "name": "stdout",
     "output_type": "stream",
     "text": [
      "   id                                             review  \\\n",
      "0   1  I love this app! It is so useful and easy to use.   \n",
      "1   2  Terrible experience. The app crashes all the t...   \n",
      "2   3        Decent app but needs improvement in the UI.   \n",
      "3   4           Fantastic! This app has changed my life.   \n",
      "4   5       The app is okay, but it lacks many features.   \n",
      "\n",
      "                                     cleaned_review  \n",
      "0   i love this app it is so useful and easy to use  \n",
      "1  terrible experience the app crashes all the time  \n",
      "2        decent app but needs improvement in the ui  \n",
      "3            fantastic this app has changed my life  \n",
      "4        the app is okay but it lacks many features  \n"
     ]
    }
   ],
   "source": [
    "import string\n",
    "\n",
    "def preprocess_text(text):\n",
    "    # Convert to lowercase\n",
    "    text = text.lower()\n",
    "    # Remove punctuation\n",
    "    text = text.translate(str.maketrans('', '', string.punctuation))\n",
    "    return text\n",
    "\n",
    "# Apply preprocessing to the 'review' column\n",
    "reviews_df['cleaned_review'] = reviews_df['review'].apply(preprocess_text)\n",
    "\n",
    "\n",
    "print(reviews_df.head())\n"
   ]
  },
  {
   "cell_type": "code",
   "execution_count": 4,
   "metadata": {},
   "outputs": [
    {
     "name": "stdout",
     "output_type": "stream",
     "text": [
      "   id                                             review  \\\n",
      "0   1  I love this app! It is so useful and easy to use.   \n",
      "1   2  Terrible experience. The app crashes all the t...   \n",
      "2   3        Decent app but needs improvement in the UI.   \n",
      "3   4           Fantastic! This app has changed my life.   \n",
      "4   5       The app is okay, but it lacks many features.   \n",
      "\n",
      "                                     cleaned_review sentiment  \n",
      "0   i love this app it is so useful and easy to use  positive  \n",
      "1  terrible experience the app crashes all the time  negative  \n",
      "2        decent app but needs improvement in the ui  positive  \n",
      "3            fantastic this app has changed my life  positive  \n",
      "4        the app is okay but it lacks many features  positive  \n"
     ]
    }
   ],
   "source": [
    "from textblob import TextBlob\n",
    "\n",
    "def analyze_sentiment(text):\n",
    "    analysis = TextBlob(text)\n",
    "    # Determine sentiment polarity\n",
    "    if analysis.sentiment.polarity > 0:\n",
    "        return 'positive'\n",
    "    elif analysis.sentiment.polarity < 0:\n",
    "        return 'negative'\n",
    "    else:\n",
    "        return 'neutral'\n",
    "\n",
    "# Apply sentiment analysis to the 'cleaned_review' column\n",
    "reviews_df['sentiment'] = reviews_df['cleaned_review'].apply(analyze_sentiment)\n",
    "\n",
    "\n",
    "print(reviews_df.head())\n"
   ]
  },
  {
   "cell_type": "code",
   "execution_count": 5,
   "metadata": {},
   "outputs": [
    {
     "name": "stdout",
     "output_type": "stream",
     "text": [
      "sentiment\n",
      "positive    64.0\n",
      "negative    20.0\n",
      "neutral     16.0\n",
      "Name: proportion, dtype: float64\n"
     ]
    }
   ],
   "source": [
    "# Calculate the distribution of sentiments\n",
    "sentiment_distribution = reviews_df['sentiment'].value_counts(normalize=True) * 100\n",
    "\n",
    "# Display the sentiment distribution\n",
    "print(sentiment_distribution)\n",
    "\n",
    "\n",
    "with open('summary_report.md', 'w') as f:\n",
    "    f.write(\"# Sentiment Analysis Report\\n\")\n",
    "    f.write(\"\\n## Sentiment Distribution\\n\")\n",
    "    for sentiment, percentage in sentiment_distribution.items():\n",
    "        f.write(f\"- {sentiment.capitalize()}: {percentage:.2f}%\\n\")\n"
   ]
  }
 ],
 "metadata": {
  "kernelspec": {
   "display_name": "base",
   "language": "python",
   "name": "python3"
  },
  "language_info": {
   "codemirror_mode": {
    "name": "ipython",
    "version": 3
   },
   "file_extension": ".py",
   "mimetype": "text/x-python",
   "name": "python",
   "nbconvert_exporter": "python",
   "pygments_lexer": "ipython3",
   "version": "3.11.4"
  }
 },
 "nbformat": 4,
 "nbformat_minor": 2
}
